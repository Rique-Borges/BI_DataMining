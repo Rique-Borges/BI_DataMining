{
  "nbformat": 4,
  "nbformat_minor": 0,
  "metadata": {
    "colab": {
      "provenance": [],
      "authorship_tag": "ABX9TyMhk9AUKsXQD7Fl7O1Bk6Ih",
      "include_colab_link": true
    },
    "kernelspec": {
      "name": "python3",
      "display_name": "Python 3"
    },
    "language_info": {
      "name": "python"
    }
  },
  "cells": [
    {
      "cell_type": "markdown",
      "metadata": {
        "id": "view-in-github",
        "colab_type": "text"
      },
      "source": [
        "<a href=\"https://colab.research.google.com/github/Rique-Borges/BI_DataMining/blob/main/CLASSIFICACAO.ipynb\" target=\"_parent\"><img src=\"https://colab.research.google.com/assets/colab-badge.svg\" alt=\"Open In Colab\"/></a>"
      ]
    },
    {
      "cell_type": "code",
      "execution_count": 1,
      "metadata": {
        "colab": {
          "base_uri": "https://localhost:8080/"
        },
        "id": "WEND8I_BvVgv",
        "outputId": "115079e7-3c7d-4dab-ccc6-45b343f3f675"
      },
      "outputs": [
        {
          "output_type": "stream",
          "name": "stdout",
          "text": [
            "Previsão para o novo e-mail: Não Spam\n"
          ]
        }
      ],
      "source": [
        "from sklearn.naive_bayes import GaussianNB\n",
        "\n",
        "# Dados de exemplo\n",
        "X = [[100, 20], [150, 30], [120, 25], [140, 28]]\n",
        "y = ['Não Spam', 'Spam', 'Não Spam', 'Spam']\n",
        "\n",
        "# Treinando o modelo\n",
        "model = GaussianNB()\n",
        "model.fit(X, y)\n",
        "\n",
        "# Previsão para um novo e-mail\n",
        "novo_email = [[130, 22]]\n",
        "\n",
        "resultado = model.predict(novo_email)\n",
        "print(f\"Previsão para o novo e-mail: {resultado[0]}\")\n"
      ]
    },
    {
      "cell_type": "code",
      "source": [
        "# Passo 1: Importar as bibliotecas necessárias\n",
        "import numpy as np\n",
        "from sklearn.model_selection import train_test_split\n",
        "from sklearn.feature_extraction.text import CountVectorizer\n",
        "from sklearn.naive_bayes import MultinomialNB\n",
        "from sklearn.metrics import accuracy_score\n",
        "\n",
        "# Passo 2: Preparar os dados\n",
        "emails = [\n",
        "    \"Oferta imperdível! Ganhe 50% de desconto em todos os produtos!\",\n",
        "    \"Você ganhou um prêmio de R$ 10.000! Clique aqui para resgatar.\",\n",
        "    \"Confira as novas ofertas da loja. Não perca!\",\n",
        "    \"Reunião de equipe amanhã às 18h. Por favor, confirme sua presença.\",\n",
        "    \"Lembrete: pagamento da fatura do cartão de crédito vence amanhã.\",\n",
        "]\n",
        "labels = [1, 1, 1, 0, 0]  # 1 para spam, 0 para não spam\n",
        "\n",
        "# Passo 3: Transformar os dados em uma matriz de contagem de palavras (bag of words)\n",
        "vectorizer = CountVectorizer()\n",
        "X = vectorizer.fit_transform(emails)\n",
        "\n",
        "# Passo 4: Dividir os dados em conjunto de treinamento e conjunto de teste\n",
        "X_train, X_test, y_train, y_test = train_test_split(X, labels, test_size=0.2, random_state=42)\n",
        "\n",
        "# Passo 5: Criar e treinar o modelo\n",
        "model = MultinomialNB()  # Criar o modelo Naive Bayes multinomial\n",
        "model.fit(X_train, y_train)  # Treinar o modelo com os dados de treinamento\n",
        "\n",
        "# Passo 6: Fazer previsões\n",
        "predictions = model.predict(X_test)  # Fazer previsões usando o conjunto de teste\n",
        "\n",
        "# Passo 7: Avaliar a precisão do modelo\n",
        "accuracy = accuracy_score(y_test, predictions)  # Calcular a precisão do modelo\n",
        "print(\"Accuracy:\", accuracy)\n"
      ],
      "metadata": {
        "colab": {
          "base_uri": "https://localhost:8080/"
        },
        "id": "LhS7TshgwYmq",
        "outputId": "91b08261-8709-4e14-fd0c-7e5fbb1d8d49"
      },
      "execution_count": 2,
      "outputs": [
        {
          "output_type": "stream",
          "name": "stdout",
          "text": [
            "Accuracy: 1.0\n"
          ]
        }
      ]
    },
    {
      "cell_type": "code",
      "source": [
        "# Passo 1: Importar as bibliotecas necessárias\n",
        "import numpy as np\n",
        "from sklearn.model_selection import train_test_split\n",
        "from sklearn.feature_extraction.text import CountVectorizer\n",
        "from sklearn.neighbors import KNeighborsClassifier\n",
        "from sklearn.metrics import accuracy_score\n",
        "\n",
        "# Passo 2: Preparar os dados\n",
        "emails = [\n",
        "    \"Oferta imperdível! Ganhe 50% de desconto em todos os produtos!\",\n",
        "    \"Você ganhou um prêmio de R$ 10.000! Clique aqui para resgatar.\",\n",
        "    \"Confira as novas ofertas da loja. Não perca!\",\n",
        "    \"Reunião de equipe amanhã às 10h. Por favor, confirme sua presença.\",\n",
        "    \"Lembrete: pagamento da fatura do cartão de crédito vence amanhã.\",\n",
        "]\n",
        "labels = [1, 1, 1, 0, 0]  # 1 para spam, 0 para não spam\n",
        "\n",
        "# Passo 3: Transformar os dados em uma matriz de contagem de palavras\n",
        "vectorizer = CountVectorizer()\n",
        "X = vectorizer.fit_transform(emails)\n",
        "\n",
        "# Passo 4: Dividir os dados em conjunto de treinamento e conjunto de teste\n",
        "X_train, X_test, y_train, y_test = train_test_split(X, labels, test_size=0.2, random_state=42)\n",
        "\n",
        "# Passo 5: Criar e treinar o modelo KNN\n",
        "model = KNeighborsClassifier(n_neighbors=3)\n",
        "model.fit(X_train, y_train)\n",
        "\n",
        "# Passo 6: Fazer previsões\n",
        "predictions = model.predict(X_test)\n",
        "\n",
        "# Passo 7: Avaliar a precisão do modelo\n",
        "accuracy = accuracy_score(y_test, predictions)\n",
        "print(\"Accuracy:\", accuracy)\n"
      ],
      "metadata": {
        "colab": {
          "base_uri": "https://localhost:8080/"
        },
        "id": "cpS-BgWcwk5b",
        "outputId": "2d7cf4d9-cba4-46e9-976b-9df0e80b726a"
      },
      "execution_count": 3,
      "outputs": [
        {
          "output_type": "stream",
          "name": "stdout",
          "text": [
            "Accuracy: 1.0\n"
          ]
        }
      ]
    },
    {
      "cell_type": "code",
      "source": [
        "from sklearn.model_selection import train_test_split\n",
        "from sklearn.feature_extraction.text import CountVectorizer\n",
        "from sklearn.svm import SVC\n",
        "from sklearn.metrics import accuracy_score\n",
        "\n",
        "# Passo 2: Preparar os dados\n",
        "# Suponha que temos um conjunto de dados com e-mails e seus rótulos (spam ou não spam)\n",
        "# Aqui está um exemplo simples de um conjunto de dados fictício:\n",
        "\n",
        "emails = [\n",
        "    \"Oferta imperdível! Ganhe 50% de desconto em todos os produtos!\",\n",
        "    \"Você ganhou um prêmio de R$ 10.000! Clique aqui para resgatar.\",\n",
        "    \"Confira as novas ofertas da loja. Não perca!\",\n",
        "    \"Reunião de equipe amanhã às 10h. Por favor, confirme sua presença.\",\n",
        "    \"Lembrete: pagamento da fatura do cartão de crédito vence amanhã.\",\n",
        "]\n",
        "\n",
        "labels = [1, 1, 1, 0, 0]  # 1 para spam, 0 para não spam\n",
        "\n",
        "# Passo 3: Transformar os dados em uma matriz de contagem de palavras (bag of words)\n",
        "vectorizer = CountVectorizer()\n",
        "X = vectorizer.fit_transform(emails)\n",
        "\n",
        "# Passo 4: Dividir os dados em conjunto de treinamento e conjunto de teste\n",
        "X_train, X_test, y_train, y_test = train_test_split(X, labels, test_size=0.2, random_state=42)\n",
        "\n",
        "# Passo 5: Criar e treinar o modelo SVM\n",
        "model = SVC(kernel='linear')  # Criar o modelo SVM com kernel linear\n",
        "model.fit(X_train, y_train)  # Treinar o modelo com os dados de treinamento\n",
        "\n",
        "# Passo 6: Fazer previsões\n",
        "predictions = model.predict(X_test)  # Fazer previsões usando o conjunto de teste\n",
        "\n",
        "# Passo 7: Avaliar a precisão do modelo\n",
        "accuracy = accuracy_score(y_test, predictions)  # Calcular a precisão do modelo\n",
        "print(\"Accuracy:\", accuracy)\n"
      ],
      "metadata": {
        "colab": {
          "base_uri": "https://localhost:8080/"
        },
        "id": "g4okzpnEx6U7",
        "outputId": "e9e4415d-383f-4370-e564-ebbc364f09a9"
      },
      "execution_count": 4,
      "outputs": [
        {
          "output_type": "stream",
          "name": "stdout",
          "text": [
            "Accuracy: 1.0\n"
          ]
        }
      ]
    },
    {
      "cell_type": "code",
      "source": [
        "# Passo 1: Importar as bibliotecas necessárias\n",
        "from sklearn.model_selection import train_test_split\n",
        "from sklearn.feature_extraction.text import CountVectorizer\n",
        "from sklearn.tree import DecisionTreeClassifier\n",
        "from sklearn.metrics import accuracy_score\n",
        "\n",
        "# Passo 2: Preparar os dados\n",
        "emails = [\n",
        "    \"Oferta imperdível! Ganhe 50% de desconto em todos os produtos!\",\n",
        "    \"Você ganhou um prêmio de R$ 10.000! Clique aqui para resgatar.\",\n",
        "    \"Confira as novas ofertas da loja. Não perca!\",\n",
        "    \"Reunião de equipe amanhã às 10h. Por favor, confirme sua presença.\",\n",
        "    \"Lembrete: pagamento da fatura do cartão de crédito vence amanhã.\",\n",
        "]\n",
        "labels = [1, 1, 1, 0, 0]  # 1 para spam, 0 para não spam\n",
        "\n",
        "# Passo 3: Transformar os dados em uma matriz de contagem de palavras (bag of words)\n",
        "vectorizer = CountVectorizer()\n",
        "X = vectorizer.fit_transform(emails)\n",
        "\n",
        "# Passo 4: Dividir os dados em conjunto de treinamento e conjunto de teste\n",
        "X_train, X_test, y_train, y_test = train_test_split(X, labels, test_size=0.2, random_state=42)\n",
        "\n",
        "# Passo 5: Criar e treinar o modelo de Árvore de Decisão\n",
        "model = DecisionTreeClassifier()\n",
        "model.fit(X_train, y_train)\n",
        "\n",
        "# Passo 6: Fazer previsões\n",
        "predictions = model.predict(X_test)\n",
        "\n",
        "# Passo 7: Avaliar a precisão do modelo\n",
        "accuracy = accuracy_score(y_test, predictions)\n",
        "print(\"Accuracy:\", accuracy)\n"
      ],
      "metadata": {
        "colab": {
          "base_uri": "https://localhost:8080/"
        },
        "id": "zmsom2hWx8Vv",
        "outputId": "3862e7bf-e39d-4b4d-cf9e-23e9bb40afd8"
      },
      "execution_count": 6,
      "outputs": [
        {
          "output_type": "stream",
          "name": "stdout",
          "text": [
            "Accuracy: 1.0\n"
          ]
        }
      ]
    }
  ]
}